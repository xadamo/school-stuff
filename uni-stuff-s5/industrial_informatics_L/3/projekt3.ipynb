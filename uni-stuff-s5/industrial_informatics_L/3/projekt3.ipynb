{
 "cells": [
  {
   "cell_type": "markdown",
   "metadata": {},
   "source": [
    "# Podstawy informatyki przemysłowej - projekt nr 3\n",
    "_grupa: Adam Bednarski, Michał Skibiński, Paweł Lachawiec_"
   ]
  },
  {
   "cell_type": "markdown",
   "metadata": {},
   "source": [
    "## 1. opis zadania\n",
    "\n",
    "Problemem do rozwiązania jest problem obsługi bramy wjazdowej na posesję. <br>\n",
    "Brama posiada 5 stanów, w których może się znajdować:\n",
    "1. stan otwierania się, gdy auto najedzie na przycisk I4\n",
    "2. stan zamykania się, gdy auto najedzie na przycisk I3 \n",
    "3. stan otwarty, gdy czujnik ruchu I1 wykryje że brama jest otwarta\n",
    "4. stan zamknięty, gdy czujnik ruchu I2 wykryje że brama jest zamknięta \n",
    "5. stan STOP, gdy w stanie zamykania się bądź otwierania się ponownie zostanie wciśnięty przycisk I3 lub analogicznie I4, wtedy brama zatrzyma się (wyjście ze stanu STOP następuje po kolejnym wciśnięciu I3, co spowoduje przejście w stan zamykania się, bądź po wciśnięciu I4 – skutkuje to przejściem w stan otwierania się)"
   ]
  },
  {
   "cell_type": "markdown",
   "metadata": {},
   "source": [
    "## wejścia i wyjścia sterownika\n",
    "\n",
    "wejścia\n",
    "\n",
    "| zmienna | urządzenie | opis |\n",
    "| --- | --- | --- |\n",
    "| i1 | czujnik zamkniecia bramy | 1, gdy brama jest zamknieta |\n",
    "| i2 | czujnik otwarcia bramy | 1, gdy brama jest otwarta |\n",
    "| i3 | czujnik polozenia auta w garazu | 1, gdy brama ma sie zamknac |\n",
    "| i4 | czujnik polozenia auta na podjezdzie | 1, gdy brama ma sie otworzyc |\n",
    "\n",
    "wyjścia\n",
    "\n",
    "| zmienna | urządzenie | opis |\n",
    "| --- | --- | --- |\n",
    "| q1 | silnik bramy | 1, zeby zamknac brame |\n",
    "| q2 | silnik bramy | 1, zeby otworzyc brame |"
   ]
  },
  {
   "cell_type": "markdown",
   "metadata": {},
   "source": [
    "## diagram sfc"
   ]
  },
  {
   "cell_type": "markdown",
   "metadata": {},
   "source": [
    "<div>\n",
    "<img src=\"sfc.png\" width=\"500\"/>\n",
    "</div>"
   ]
  },
  {
   "cell_type": "markdown",
   "metadata": {},
   "source": []
  },
  {
   "cell_type": "markdown",
   "metadata": {},
   "source": [
    "## diagram FBD"
   ]
  },
  {
   "cell_type": "markdown",
   "metadata": {},
   "source": []
  }
 ],
 "metadata": {
  "kernelspec": {
   "display_name": "Python 3.10.8 64-bit (microsoft store)",
   "language": "python",
   "name": "python3"
  },
  "language_info": {
   "codemirror_mode": {
    "name": "ipython",
    "version": 3
   },
   "file_extension": ".py",
   "mimetype": "text/x-python",
   "name": "python",
   "nbconvert_exporter": "python",
   "pygments_lexer": "ipython3",
   "version": "3.10.8"
  },
  "orig_nbformat": 4,
  "vscode": {
   "interpreter": {
    "hash": "7ef980db9c5a87376175fed588ede80ff64bd75996e639a2776478f61aa6eab6"
   }
  }
 },
 "nbformat": 4,
 "nbformat_minor": 2
}
